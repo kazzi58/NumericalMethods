{
  "nbformat": 4,
  "nbformat_minor": 0,
  "metadata": {
    "colab": {
      "name": "160041058.ipynb",
      "version": "0.3.2",
      "provenance": [],
      "collapsed_sections": []
    },
    "kernelspec": {
      "name": "python3",
      "display_name": "Python 3"
    }
  },
  "cells": [
    {
      "cell_type": "code",
      "metadata": {
        "id": "9slsIfHpHXQk",
        "colab_type": "code",
        "colab": {}
      },
      "source": [
        "import numpy as np\n",
        "import array as arr\n",
        "import matplotlib.pyplot as plt\n",
        "\n",
        "x = np.array([10,15,20,22.5,30]) \n",
        "y = np.array([227.04, 362.78, 517.35,602.97,901.67])"
      ],
      "execution_count": 0,
      "outputs": []
    },
    {
      "cell_type": "markdown",
      "metadata": {
        "id": "jEL5hkNTpBoB",
        "colab_type": "text"
      },
      "source": [
        "Kazi Raiyan Mahmud\n",
        "\n",
        "ID: 160041058\n",
        "\n",
        "Group : Y "
      ]
    },
    {
      "cell_type": "code",
      "metadata": {
        "id": "j28LGhQdKyLU",
        "colab_type": "code",
        "colab": {}
      },
      "source": [
        "# def newton_divided(x,y,n):\n",
        "  \n",
        "#   coeff=[0];\n",
        "  \n",
        "#   for i in range(0,n-1):\n",
        "  \n",
        "#     coeff.append(0);\n",
        "    \n",
        "  \n",
        "#   for i in range(0,n-1):\n",
        "    \n",
        "#     val2=0\n",
        "    \n",
        "#     for j in range(i+1,0):\n",
        "      \n",
        "      \n",
        "#       val1 = y[j]-y[j-1];\n",
        "#       x_diff = x[j]-x[j-1];\n",
        "      \n",
        "#       val1= val1 / x_diff\n",
        "      \n",
        "#       if(j==i):\n",
        "#         val2=val1\n",
        "#         print(val2)\n",
        "       \n",
        "        \n",
        "#       else:\n",
        "          \n",
        "#         val2 = val2-val1;\n",
        "#         print(val2)\n",
        "    \n",
        "#   coeff[i]=val2; \n",
        "   \n",
        "  \n",
        "#   return coeff\n",
        "  "
      ],
      "execution_count": 0,
      "outputs": []
    },
    {
      "cell_type": "code",
      "metadata": {
        "id": "i68d9UiMQ3Df",
        "colab_type": "code",
        "colab": {}
      },
      "source": [
        "# results = newton_divided(x,y,2);\n",
        "\n",
        "# print(results);"
      ],
      "execution_count": 0,
      "outputs": []
    },
    {
      "cell_type": "code",
      "metadata": {
        "id": "loJXxVzmR_an",
        "colab_type": "code",
        "outputId": "cb96f574-2b48-4af7-ead6-d7532b31374c",
        "colab": {
          "base_uri": "https://localhost:8080/",
          "height": 52
        }
      },
      "source": [
        "import numpy as np\n",
        "\n",
        "\n",
        "def coeff(x, y, n):\n",
        "  \n",
        "    #n = 5\n",
        "    \n",
        "    pyramid = np.zeros([n, n])\n",
        "    \n",
        "    pyramid[::,0] = y # first column is y\n",
        "    \n",
        "    for j in range(1,n):\n",
        "      \n",
        "        for i in range(n-j):\n",
        "          \n",
        "            # create pyramid by updating other columns\n",
        "            \n",
        "            pyramid[i][j] = (pyramid[i+1][j-1] - pyramid[i][j-1]) / (x[i+j] - x[i])\n",
        "            #pyramid[i][j] = truncate(pyramid[i][j],2);\n",
        "            \n",
        "    return pyramid[0] # return first row\n",
        "\n",
        "coeff_vector = coeff(x, y, 5)\n",
        "print (coeff_vector) \n",
        "  \n",
        "\n",
        "  \n",
        "\n",
        "  \n",
        "  "
      ],
      "execution_count": 77,
      "outputs": [
        {
          "output_type": "stream",
          "text": [
            "[2.27040000e+02 2.71480000e+01 3.76600000e-01 5.43466667e-03\n",
            " 1.06044444e-04]\n"
          ],
          "name": "stdout"
        }
      ]
    },
    {
      "cell_type": "markdown",
      "metadata": {
        "id": "mSjkN5c-pRKW",
        "colab_type": "text"
      },
      "source": [
        "Using the above function named 'coeff' we are basically finding the coefficient values or the values of the pyramid. As we know, the general equation of the Newton's Divided Difference method can be given by :\n",
        "\n",
        "f(X) = b0 + b1 (X-X0) + b2 (X-X0)(X-X1) + ..... bn(X-X0)(X-X1)...(X-Xn-1) \n",
        "\n",
        "Using this function we are basically finding the 'b' values, i.e , b0,b1,b2...bn \n",
        "\n"
      ]
    },
    {
      "cell_type": "code",
      "metadata": {
        "id": "3sn2MMM8g0Tj",
        "colab_type": "code",
        "colab": {}
      },
      "source": [
        "def prod2 (x,value,n):\n",
        "  \n",
        "  mult=1;\n",
        "  \n",
        "  for i in range(0,n-1):\n",
        "    \n",
        "    mult= mult * (value-x[i]);\n",
        "    #mult= mult * coeff[]\n",
        "    \n",
        "  return mult\n",
        "    \n",
        "    "
      ],
      "execution_count": 0,
      "outputs": []
    },
    {
      "cell_type": "markdown",
      "metadata": {
        "id": "KMsvavBfq2Wv",
        "colab_type": "text"
      },
      "source": [
        "f(X) = b0 + b1 (X-X0) + b2 (X-X0)(X-X1) + ..... bn(X-X0)(X-X1)...(X-Xn-1)\n",
        "\n",
        "\n",
        "The function 'prod2' simply returns the product of terms according to the passed value in the parameter. For example if we pass 3, the value returned will be equal to :\n",
        "\n",
        "(x-x0) * (x-x1) * (x-x2)"
      ]
    },
    {
      "cell_type": "code",
      "metadata": {
        "id": "u2JfkeGRXvNo",
        "colab_type": "code",
        "colab": {}
      },
      "source": [
        "def formula (coeff_vector,x,n,value):\n",
        "  \n",
        "#   x1=value\n",
        "  \n",
        "#   func = coeff_vector[0];\n",
        "\n",
        "#   for i in range(1,n):\n",
        "    \n",
        "#     prod=1\n",
        "  \n",
        "#     for j in range(0,i):\n",
        "      \n",
        "#       prod *= (x1-x[j-1]);\n",
        "  \n",
        "#   func += coeff_vector[i]*prod;\n",
        "\n",
        "  func = coeff_vector[0];\n",
        "  \n",
        "  \n",
        "  \n",
        "  for i in range(0,n-1):\n",
        "    \n",
        "    prod=1;\n",
        "     \n",
        "    \n",
        "    prod = prod * prod2(x,value,i+2);\n",
        "    \n",
        "    prod = prod * coeff_vector[i+1];\n",
        "    \n",
        "    func += prod;\n",
        "    \n",
        "  \n",
        "  \n",
        "  return func\n",
        "  "
      ],
      "execution_count": 0,
      "outputs": []
    },
    {
      "cell_type": "markdown",
      "metadata": {
        "id": "yglWhrSerQq7",
        "colab_type": "text"
      },
      "source": [
        "This is our main fucntion which calculates the interpolated value according to the expected value of x.\n",
        "\n",
        "This basically uses the previous two functions to build the pyramid of coefficients. It then calls the function 'prod2' to calculate the product of the x terms inside a loop, and adds it to the main function.\n",
        "\n",
        "The value of the main function will be our answer, which is the interpolated value.\n",
        "\n",
        "This function takes in 4 parameters:\n",
        "\n",
        "\n",
        "\n",
        "1.   The array of the coefficients( B values)\n",
        "2.   Array X \n",
        "3.   n : the degree of the interpolating equation\n",
        "4.   value : the value at which we are trying to interpolate.\n",
        "\n"
      ]
    },
    {
      "cell_type": "code",
      "metadata": {
        "id": "5psTBiXCZXdy",
        "colab_type": "code",
        "outputId": "a687c5a1-4191-41a0-d9a6-763e942f14e4",
        "colab": {
          "base_uri": "https://localhost:8080/",
          "height": 331
        }
      },
      "source": [
        "func2 = formula(coeff_vector,x,5,16);\n",
        "\n",
        "#print(coeff_vector[0])\n",
        "\n",
        "print(func2)\n",
        "\n",
        "#print(x)\n",
        "#print(y)\n",
        "\n",
        "#test = prod2(x,16,2);\n",
        "\n",
        "#print(test)\n",
        "\n",
        "plt.plot(x,y)\n",
        "\n",
        "plt.plot(16,func2,'ro')\n",
        "plt.xlabel(\"time(t)\")\n",
        "plt.ylabel(\"velocity(v)\")\n",
        "plt.title(\"Newton’s Divided Difference Method \")"
      ],
      "execution_count": 80,
      "outputs": [
        {
          "output_type": "stream",
          "text": [
            "392.07371093333336\n"
          ],
          "name": "stdout"
        },
        {
          "output_type": "execute_result",
          "data": {
            "text/plain": [
              "Text(0.5, 1.0, 'Newton’s Divided Difference Method ')"
            ]
          },
          "metadata": {
            "tags": []
          },
          "execution_count": 80
        },
        {
          "output_type": "display_data",
          "data": {
            "image/png": "[encoded data removed]",
            "text/plain": [
              "<Figure size 432x288 with 1 Axes>"
            ]
          },
          "metadata": {
            "tags": []
          }
        }
      ]
    },
    {
      "cell_type": "markdown",
      "metadata": {
        "id": "OCY9zGJZxpXn",
        "colab_type": "text"
      },
      "source": [
        "The red point above indicates the velocity value which we have interpolated using the Newton’s Divided Difference Method."
      ]
    }
  ]
}