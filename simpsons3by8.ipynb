{
  "nbformat": 4,
  "nbformat_minor": 0,
  "metadata": {
    "colab": {
      "name": "Untitled0.ipynb",
      "version": "0.3.2",
      "provenance": [],
      "collapsed_sections": []
    },
    "kernelspec": {
      "name": "python3",
      "display_name": "Python 3"
    }
  },
  "cells": [
    {
      "cell_type": "code",
      "metadata": {
        "id": "2SkfqvEVT68H",
        "colab_type": "code",
        "outputId": "13377b8e-ba96-4181-a0d0-53291b3efab4",
        "colab": {
          "base_uri": "https://localhost:8080/",
          "height": 52
        }
      },
      "source": [
        "import numpy as np\n",
        "\n",
        "answer=simpson(8,30,6);\n",
        "\n",
        "print(answer);\n",
        "\n",
        "final = Simpsons3by8(answer,8,30,6);\n",
        "\n",
        "print(final)\n",
        "\n",
        "\n",
        "    \n",
        "  \n",
        "  \n",
        "  "
      ],
      "execution_count": 29,
      "outputs": [
        {
          "output_type": "stream",
          "text": [
            "[177.26674301977, 270.4104519615788, 372.46286160214834, 484.74547257625863, 608.8975545899982, 746.9869752359245, 901.6740015112407]\n",
            "11061.469677297158\n"
          ],
          "name": "stdout"
        }
      ]
    },
    {
      "cell_type": "code",
      "metadata": {
        "id": "b9c4ED2EZrOV",
        "colab_type": "code",
        "colab": {}
      },
      "source": [
        "def simpson(a, b, n):\n",
        "  \n",
        "  h=(b-a)/n;\n",
        "  #print(h)\n",
        "  \n",
        "  ans = [0] * (n+1);\n",
        "  \n",
        "  for i in range(0,n+1):\n",
        "    \n",
        "    temp2=a+(i*h);\n",
        "    ans[i]=calcFunc(temp2);\n",
        "    \n",
        "  return ans;"
      ],
      "execution_count": 0,
      "outputs": []
    },
    {
      "cell_type": "code",
      "metadata": {
        "id": "haCWCZpRblD-",
        "colab_type": "code",
        "colab": {}
      },
      "source": [
        "def Simpsons3by8(ans,a,b,n):\n",
        "  \n",
        "  h = (b-a)/n\n",
        "  \n",
        "#   print(h)\n",
        "\n",
        "  \n",
        "  I = 0\n",
        "  I = I+ans[0]+ans[n]\n",
        "  \n",
        "  for i in range(1,n):\n",
        "    if (i % 3 == 1):\n",
        "      I = I+3*ans[i]\n",
        "\n",
        "    elif (i%3 == 2):\n",
        "      I = I+3*ans[i]\n",
        "\n",
        "    else:\n",
        "      I = I + 2*ans[i]\n",
        "\n",
        "  I = I * (3/8) * h\n",
        "      \n",
        "  return I\n",
        "    \n",
        "    "
      ],
      "execution_count": 0,
      "outputs": []
    },
    {
      "cell_type": "code",
      "metadata": {
        "id": "LOd2UbeMXi1d",
        "colab_type": "code",
        "colab": {}
      },
      "source": [
        "def calcFunc(t):\n",
        "  \n",
        "  temp=(140000/(140000-2100*t));\n",
        "  \n",
        "  temp=np.log(temp);\n",
        "  \n",
        "  temp*=2000;\n",
        "  \n",
        "  temp-=9.8*t;\n",
        "  \n",
        "  #f=2000*numpy.log-9.8t;\n",
        "  \n",
        "  return temp;"
      ],
      "execution_count": 0,
      "outputs": []
    }
  ]
}